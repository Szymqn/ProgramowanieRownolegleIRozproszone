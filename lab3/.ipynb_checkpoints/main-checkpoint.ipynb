{
 "cells": [
  {
   "cell_type": "code",
   "execution_count": 20,
   "outputs": [],
   "source": [
    "# Imports\n",
    "from multiprocessing import Process, current_process\n",
    "import time\n",
    "import os "
   ],
   "metadata": {
    "collapsed": false,
    "ExecuteTime": {
     "end_time": "2023-10-16T08:44:03.779069700Z",
     "start_time": "2023-10-16T08:44:03.754106300Z"
    }
   },
   "id": "68aef3d87a9b648b"
  },
  {
   "cell_type": "code",
   "execution_count": 16,
   "outputs": [],
   "source": [
    "# def fun():\n",
    "# \n",
    "#   print('calling fun')\n",
    "#   time.sleep(2)\n",
    "# \n",
    "# def main():\n",
    "# \n",
    "#   print('main fun')\n",
    "# \n",
    "#   p = Process(target=fun)\n",
    "#   p.start()\n",
    "#   # p.join()\n",
    "# \n",
    "#   print(f'Process p is alive: {p.is_alive()}')\n",
    "# \n",
    "# if __name__ == '__main__':\n",
    "#   main() "
   ],
   "metadata": {
    "collapsed": false,
    "ExecuteTime": {
     "end_time": "2023-10-16T08:43:32.093247900Z",
     "start_time": "2023-10-16T08:43:32.051258400Z"
    }
   },
   "id": "b22de91ceea20cb5"
  },
  {
   "cell_type": "code",
   "execution_count": 17,
   "outputs": [],
   "source": [
    "# def fun():\n",
    "#   print('---------------------')\n",
    "# \n",
    "# \n",
    "#   print('calling fun')\n",
    "#   print('parent process id:', os.getppid())\n",
    "#   print('process id:', os.getpid())\n",
    "# \n",
    "# def main():\n",
    "# \n",
    "#   print('main fun')\n",
    "#   print('process id:', os.getpid())\n",
    "# \n",
    "# \n",
    "#   p1 = Process(target=fun())\n",
    "#   p1.start()\n",
    "#   p1.join()\n",
    "# \n",
    "#   p2 = Process(target=fun())\n",
    "#   p2.start()\n",
    "#   p2.join()\n",
    "#   \n",
    "#   \n",
    "# if __name__ == '__main__':\n",
    "#   main()  "
   ],
   "metadata": {
    "collapsed": false,
    "ExecuteTime": {
     "end_time": "2023-10-16T08:43:32.107408700Z",
     "start_time": "2023-10-16T08:43:32.089738300Z"
    }
   },
   "id": "3a4d8e74a3e3b3c6"
  },
  {
   "cell_type": "code",
   "execution_count": 3,
   "outputs": [],
   "source": [
    "from multiprocessing import Process, current_process, Queue\n",
    "import time\n",
    "\n",
    "def worker(output):\n",
    "    name = current_process().name\n",
    "    output.put(f\"{name} Starting\")\n",
    "    time.sleep(2)\n",
    "    output.put(f\"{name} Exiting\")\n",
    "\n",
    "def service(output):\n",
    "    name = current_process().name\n",
    "    output.put(f\"{name} Starting\")\n",
    "    time.sleep(3)\n",
    "    output.put(f\"{name} Exiting\")\n",
    "\n",
    "if __name__ == '__main':\n",
    "    output_queue = Queue()\n",
    "\n",
    "    service_process = Process(name='Service1', target=service, args=(output_queue,))\n",
    "    worker1 = Process(name='Worker1', target=worker, args=(output_queue,))\n",
    "    worker2 = Process(target=worker, args=(output_queue,))\n",
    "\n",
    "    worker1.start()\n",
    "    worker2.start()\n",
    "    service_process.start()\n",
    "\n",
    "    # Display the output from the processes\n",
    "    while not output_queue.empty():\n",
    "        print(output_queue.get())\n"
   ],
   "metadata": {
    "collapsed": false,
    "ExecuteTime": {
     "end_time": "2023-10-16T08:46:23.681698500Z",
     "start_time": "2023-10-16T08:46:23.665744800Z"
    }
   },
   "id": "e4fe2c723465279c"
  }
 ],
 "metadata": {
  "kernelspec": {
   "display_name": "Python 3",
   "language": "python",
   "name": "python3"
  },
  "language_info": {
   "codemirror_mode": {
    "name": "ipython",
    "version": 2
   },
   "file_extension": ".py",
   "mimetype": "text/x-python",
   "name": "python",
   "nbconvert_exporter": "python",
   "pygments_lexer": "ipython2",
   "version": "2.7.6"
  }
 },
 "nbformat": 4,
 "nbformat_minor": 5
}
