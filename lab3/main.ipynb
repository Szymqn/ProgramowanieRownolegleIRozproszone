{
 "cells": [
  {
   "cell_type": "code",
   "execution_count": 22,
   "id": "68aef3d87a9b648b",
   "metadata": {
    "collapsed": false,
    "ExecuteTime": {
     "end_time": "2023-10-19T20:18:36.214097300Z",
     "start_time": "2023-10-19T20:18:36.204505900Z"
    }
   },
   "outputs": [],
   "source": [
    "# Imports\n",
    "from multiprocessing import Process, Manager"
   ]
  },
  {
   "cell_type": "code",
   "execution_count": 7,
   "id": "b22de91ceea20cb5",
   "metadata": {
    "collapsed": false,
    "ExecuteTime": {
     "end_time": "2023-10-19T20:10:34.561575Z",
     "start_time": "2023-10-19T20:10:34.547224100Z"
    }
   },
   "outputs": [],
   "source": [
    "# def fun():\n",
    "# \n",
    "#   print('calling fun')\n",
    "#   time.sleep(2)\n",
    "# \n",
    "# def main():\n",
    "# \n",
    "#   print('main fun')\n",
    "# \n",
    "#   p = Process(target=fun)\n",
    "#   p.start()\n",
    "#   # p.join()\n",
    "# \n",
    "#   print(f'Process p is alive: {p.is_alive()}')\n",
    "# \n",
    "# if __name__ == '__main__':\n",
    "#   main() "
   ]
  },
  {
   "cell_type": "code",
   "execution_count": 8,
   "id": "3a4d8e74a3e3b3c6",
   "metadata": {
    "collapsed": false,
    "ExecuteTime": {
     "end_time": "2023-10-19T20:10:34.578332900Z",
     "start_time": "2023-10-19T20:10:34.559546700Z"
    }
   },
   "outputs": [],
   "source": [
    "# def fun():\n",
    "#   print('---------------------')\n",
    "# \n",
    "# \n",
    "#   print('calling fun')\n",
    "#   print('parent process id:', os.getppid())\n",
    "#   print('process id:', os.getpid())\n",
    "# \n",
    "# def main():\n",
    "# \n",
    "#   print('main fun')\n",
    "#   print('process id:', os.getpid())\n",
    "# \n",
    "# \n",
    "#   p1 = Process(target=fun())\n",
    "#   p1.start()\n",
    "#   p1.join()\n",
    "# \n",
    "#   p2 = Process(target=fun())\n",
    "#   p2.start()\n",
    "#   p2.join()\n",
    "#   \n",
    "#   \n",
    "# if __name__ == '__main__':\n",
    "#   main()  "
   ]
  },
  {
   "cell_type": "code",
   "execution_count": 23,
   "id": "e4fe2c723465279c",
   "metadata": {
    "collapsed": false,
    "ExecuteTime": {
     "end_time": "2023-10-19T20:18:38.393318400Z",
     "start_time": "2023-10-19T20:18:38.283358100Z"
    }
   },
   "outputs": [],
   "source": [
    "import funcs\n",
    "\n",
    "if __name__ == '__main__':\n",
    "    with Manager() as manager:\n",
    "        output = manager.list()\n",
    "        service = Process(name='Service1', target=funcs.service, args=(output, ))\n",
    "        worker1 = Process(name='Worker1', target=funcs.worker, args=(output, ))\n",
    "        worker2 = Process(target=funcs.worker, args=(output, ))\n",
    "    \n",
    "        worker1.start()\n",
    "        worker2.start()\n",
    "        service.start()\n",
    "        \n",
    "        for item in output:\n",
    "            print(item)"
   ]
  }
 ],
 "metadata": {
  "kernelspec": {
   "display_name": "Python 3 (ipykernel)",
   "language": "python",
   "name": "python3"
  },
  "language_info": {
   "codemirror_mode": {
    "name": "ipython",
    "version": 3
   },
   "file_extension": ".py",
   "mimetype": "text/x-python",
   "name": "python",
   "nbconvert_exporter": "python",
   "pygments_lexer": "ipython3",
   "version": "3.11.4"
  }
 },
 "nbformat": 4,
 "nbformat_minor": 5
}
