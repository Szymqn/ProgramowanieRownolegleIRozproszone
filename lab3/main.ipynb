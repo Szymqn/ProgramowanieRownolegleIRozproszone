{
 "cells": [
  {
   "cell_type": "code",
   "execution_count": 1,
   "id": "68aef3d87a9b648b",
   "metadata": {
    "ExecuteTime": {
     "end_time": "2023-10-16T08:44:03.779069700Z",
     "start_time": "2023-10-16T08:44:03.754106300Z"
    },
    "collapsed": false
   },
   "outputs": [],
   "source": [
    "# Imports\n",
    "from multiprocessing import Process, current_process\n",
    "import time\n",
    "import os "
   ]
  },
  {
   "cell_type": "code",
   "execution_count": 2,
   "id": "b22de91ceea20cb5",
   "metadata": {
    "ExecuteTime": {
     "end_time": "2023-10-16T08:43:32.093247900Z",
     "start_time": "2023-10-16T08:43:32.051258400Z"
    },
    "collapsed": false
   },
   "outputs": [],
   "source": [
    "# def fun():\n",
    "# \n",
    "#   print('calling fun')\n",
    "#   time.sleep(2)\n",
    "# \n",
    "# def main():\n",
    "# \n",
    "#   print('main fun')\n",
    "# \n",
    "#   p = Process(target=fun)\n",
    "#   p.start()\n",
    "#   # p.join()\n",
    "# \n",
    "#   print(f'Process p is alive: {p.is_alive()}')\n",
    "# \n",
    "# if __name__ == '__main__':\n",
    "#   main() "
   ]
  },
  {
   "cell_type": "code",
   "execution_count": 3,
   "id": "3a4d8e74a3e3b3c6",
   "metadata": {
    "ExecuteTime": {
     "end_time": "2023-10-16T08:43:32.107408700Z",
     "start_time": "2023-10-16T08:43:32.089738300Z"
    },
    "collapsed": false
   },
   "outputs": [],
   "source": [
    "# def fun():\n",
    "#   print('---------------------')\n",
    "# \n",
    "# \n",
    "#   print('calling fun')\n",
    "#   print('parent process id:', os.getppid())\n",
    "#   print('process id:', os.getpid())\n",
    "# \n",
    "# def main():\n",
    "# \n",
    "#   print('main fun')\n",
    "#   print('process id:', os.getpid())\n",
    "# \n",
    "# \n",
    "#   p1 = Process(target=fun())\n",
    "#   p1.start()\n",
    "#   p1.join()\n",
    "# \n",
    "#   p2 = Process(target=fun())\n",
    "#   p2.start()\n",
    "#   p2.join()\n",
    "#   \n",
    "#   \n",
    "# if __name__ == '__main__':\n",
    "#   main()  "
   ]
  },
  {
   "cell_type": "code",
   "execution_count": 28,
   "id": "e4fe2c723465279c",
   "metadata": {
    "collapsed": false,
    "ExecuteTime": {
     "end_time": "2023-10-16T08:59:53.273201300Z",
     "start_time": "2023-10-16T08:59:53.256112600Z"
    }
   },
   "outputs": [],
   "source": [
    "from multiprocessing import Process\n",
    "import funcs\n",
    "\n",
    "if __name__ == '__main__':\n",
    "    service = Process(name='Service1', target=funcs.service)\n",
    "    worker1 = Process(name='Worker1', target=funcs.worker)\n",
    "    worker2 = Process(target=funcs.worker)\n",
    "\n",
    "    worker1.start()\n",
    "    worker2.start()\n",
    "    service.start()"
   ]
  }
 ],
 "metadata": {
  "kernelspec": {
   "display_name": "Python 3 (ipykernel)",
   "language": "python",
   "name": "python3"
  },
  "language_info": {
   "codemirror_mode": {
    "name": "ipython",
    "version": 3
   },
   "file_extension": ".py",
   "mimetype": "text/x-python",
   "name": "python",
   "nbconvert_exporter": "python",
   "pygments_lexer": "ipython3",
   "version": "3.11.4"
  }
 },
 "nbformat": 4,
 "nbformat_minor": 5
}
