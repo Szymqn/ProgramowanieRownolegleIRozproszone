{
 "cells": [
  {
   "cell_type": "code",
   "execution_count": 1,
   "outputs": [],
   "source": [
    "from time import sleep\n",
    "from random import random\n",
    "from threading import Thread\n",
    "from queue import Queue"
   ],
   "metadata": {
    "collapsed": false,
    "ExecuteTime": {
     "end_time": "2023-11-25T21:02:15.615259400Z",
     "start_time": "2023-11-25T21:02:15.611587400Z"
    }
   },
   "id": "accec26f92352d8f"
  },
  {
   "cell_type": "markdown",
   "source": [
    "Simultaneous:"
   ],
   "metadata": {
    "collapsed": false
   },
   "id": "51aab171191f4fb9"
  },
  {
   "cell_type": "code",
   "execution_count": 2,
   "outputs": [],
   "source": [
    "def producer_parallel(queue):\n",
    "    print('Producer: Running')\n",
    "    for i in range(10):\n",
    "        value = random()\n",
    "        sleep(value)\n",
    "        item = (i, value)\n",
    "        queue.put(item)\n",
    "        print(f'>producer added {item}')\n",
    "    queue.put(None)\n",
    "    print('Producer: Done')"
   ],
   "metadata": {
    "collapsed": false,
    "ExecuteTime": {
     "end_time": "2023-11-25T21:02:15.623254100Z",
     "start_time": "2023-11-25T21:02:15.616261400Z"
    }
   },
   "id": "4496bff435acdc6d"
  },
  {
   "cell_type": "code",
   "execution_count": 3,
   "outputs": [],
   "source": [
    "def consumer_parallel(queue):\n",
    "    print('Consumer: Running')\n",
    "    while True:\n",
    "        item = queue.get()\n",
    "        if item is None:\n",
    "            break\n",
    "        sleep(item[1])\n",
    "        print(f'>consumer got {item}')\n",
    "    print('Consumer: Done')"
   ],
   "metadata": {
    "collapsed": false,
    "ExecuteTime": {
     "end_time": "2023-11-25T21:02:15.632331600Z",
     "start_time": "2023-11-25T21:02:15.626253600Z"
    }
   },
   "id": "7ca2bc9c4bae6d4a"
  },
  {
   "cell_type": "code",
   "execution_count": 4,
   "outputs": [
    {
     "name": "stdout",
     "output_type": "stream",
     "text": [
      "Consumer: Running\n",
      "Producer: Running\n",
      ">producer added (0, 0.4616921921130972)\n",
      ">producer added (1, 0.3596637715143167)\n",
      ">consumer got (0, 0.4616921921130972)\n",
      ">producer added (2, 0.2120783728889385)\n",
      ">consumer got (1, 0.3596637715143167)\n",
      ">producer added (3, 0.3415521245744939)\n",
      ">consumer got (2, 0.2120783728889385)\n",
      ">consumer got (3, 0.3415521245744939)\n",
      ">producer added (4, 0.9518313904945944)\n",
      ">producer added (5, 0.6102299700700436)\n",
      ">producer added (6, 0.32760520464720777)\n",
      ">consumer got (4, 0.9518313904945944)\n",
      ">producer added (7, 0.5291123808202748)\n",
      ">consumer got (5, 0.6102299700700436)\n",
      ">consumer got (6, 0.32760520464720777)\n",
      ">producer added (8, 0.7466224509716788)\n",
      ">consumer got (7, 0.5291123808202748)\n",
      ">producer added (9, 0.225832503161694)\n",
      "Producer: Done\n",
      ">consumer got (8, 0.7466224509716788)\n",
      ">consumer got (9, 0.225832503161694)\n",
      "Consumer: Done\n"
     ]
    }
   ],
   "source": [
    "queue = Queue()\n",
    "consumer = Thread(target=consumer_parallel, args=(queue,))\n",
    "consumer.start()\n",
    "producer = Thread(target=producer_parallel, args=(queue,))\n",
    "producer.start()\n",
    "producer.join()\n",
    "consumer.join()"
   ],
   "metadata": {
    "collapsed": false,
    "ExecuteTime": {
     "end_time": "2023-11-25T21:02:21.379699500Z",
     "start_time": "2023-11-25T21:02:15.634336600Z"
    }
   },
   "id": "e338c4e5f7fb56cd"
  },
  {
   "cell_type": "markdown",
   "source": [
    "Asynchronous:"
   ],
   "metadata": {
    "collapsed": false
   },
   "id": "353ccc217c993cc0"
  },
  {
   "cell_type": "code",
   "execution_count": 5,
   "outputs": [],
   "source": [
    "def producer(shared_list):\n",
    "    print('Producer: Running')\n",
    "    for i in range(10):\n",
    "        value = random()\n",
    "        sleep(value)\n",
    "        item = (i, value)\n",
    "        shared_list.append(item)\n",
    "        print(f'>producer added {item}')\n",
    "    shared_list.append(None)\n",
    "    print('Producer: Done')"
   ],
   "metadata": {
    "collapsed": false,
    "ExecuteTime": {
     "end_time": "2023-11-25T21:02:21.395168700Z",
     "start_time": "2023-11-25T21:02:21.377704700Z"
    }
   },
   "id": "58705fd01134ca2f"
  },
  {
   "cell_type": "code",
   "execution_count": 6,
   "outputs": [],
   "source": [
    "def consumer(shared_list):\n",
    "    print('Consumer: Running')\n",
    "    while True:\n",
    "        item = shared_list.pop(0)\n",
    "        if item is None:\n",
    "            break\n",
    "        sleep(item[1])\n",
    "        print(f'>consumer got {item}')\n",
    "    print('Consumer: Done')"
   ],
   "metadata": {
    "collapsed": false,
    "ExecuteTime": {
     "end_time": "2023-11-25T21:02:21.404461300Z",
     "start_time": "2023-11-25T21:02:21.393432600Z"
    }
   },
   "id": "59f7606d983110ae"
  },
  {
   "cell_type": "code",
   "execution_count": 7,
   "outputs": [
    {
     "name": "stdout",
     "output_type": "stream",
     "text": [
      "Producer: Running\n",
      ">producer added (0, 0.536926429578972)\n",
      ">producer added (1, 0.3595181564325465)\n",
      ">producer added (2, 0.1319726724536746)\n",
      ">producer added (3, 0.789546780385421)\n",
      ">producer added (4, 0.7447974007112321)\n",
      ">producer added (5, 0.99236868994196)\n",
      ">producer added (6, 0.2970459659133191)\n",
      ">producer added (7, 0.9190007194128627)\n",
      ">producer added (8, 0.48840037804369807)\n",
      ">producer added (9, 0.23246303667304813)\n",
      "Producer: Done\n",
      "Consumer: Running\n",
      ">consumer got (0, 0.536926429578972)\n",
      ">consumer got (1, 0.3595181564325465)\n",
      ">consumer got (2, 0.1319726724536746)\n",
      ">consumer got (3, 0.789546780385421)\n",
      ">consumer got (4, 0.7447974007112321)\n",
      ">consumer got (5, 0.99236868994196)\n",
      ">consumer got (6, 0.2970459659133191)\n",
      ">consumer got (7, 0.9190007194128627)\n",
      ">consumer got (8, 0.48840037804369807)\n",
      ">consumer got (9, 0.23246303667304813)\n",
      "Consumer: Done\n"
     ]
    }
   ],
   "source": [
    "shared_list = []\n",
    "producer(shared_list)\n",
    "consumer(shared_list)"
   ],
   "metadata": {
    "collapsed": false,
    "ExecuteTime": {
     "end_time": "2023-11-25T21:02:32.415762700Z",
     "start_time": "2023-11-25T21:02:21.398691800Z"
    }
   },
   "id": "2886a0b4c0e18a25"
  }
 ],
 "metadata": {
  "kernelspec": {
   "display_name": "Python 3",
   "language": "python",
   "name": "python3"
  },
  "language_info": {
   "codemirror_mode": {
    "name": "ipython",
    "version": 2
   },
   "file_extension": ".py",
   "mimetype": "text/x-python",
   "name": "python",
   "nbconvert_exporter": "python",
   "pygments_lexer": "ipython2",
   "version": "2.7.6"
  }
 },
 "nbformat": 4,
 "nbformat_minor": 5
}
