{
 "cells": [
  {
   "cell_type": "markdown",
   "source": [
    " 1. Zaimplementuj klasyczny problem Konsumenta-Producenta. Rozważ wyniki przy braku oraz z obecnością synchronizacj"
   ],
   "metadata": {
    "collapsed": false
   },
   "id": "9b1c9df8dd6a5f86"
  },
  {
   "cell_type": "code",
   "execution_count": 11,
   "outputs": [],
   "source": [
    "from time import sleep\n",
    "from random import random\n",
    "from threading import Thread\n",
    "from queue import Queue"
   ],
   "metadata": {
    "collapsed": false,
    "ExecuteTime": {
     "end_time": "2023-11-25T19:54:13.422836800Z",
     "start_time": "2023-11-25T19:54:13.418764300Z"
    }
   },
   "id": "accec26f92352d8f"
  },
  {
   "cell_type": "markdown",
   "source": [
    "Synchroniczne:"
   ],
   "metadata": {
    "collapsed": false
   },
   "id": "51aab171191f4fb9"
  },
  {
   "cell_type": "code",
   "execution_count": 12,
   "outputs": [],
   "source": [
    "def producer_parallel(queue):\n",
    "    print('Producer: Running')\n",
    "    for i in range(10):\n",
    "        value = random()\n",
    "        sleep(value)\n",
    "        item = (i, value)\n",
    "        queue.put(item)\n",
    "        print(f'>producer added {item}')\n",
    "    queue.put(None)\n",
    "    print('Producer: Done')"
   ],
   "metadata": {
    "collapsed": false,
    "ExecuteTime": {
     "end_time": "2023-11-25T19:54:15.137778500Z",
     "start_time": "2023-11-25T19:54:15.131715Z"
    }
   },
   "id": "4496bff435acdc6d"
  },
  {
   "cell_type": "code",
   "execution_count": 13,
   "outputs": [],
   "source": [
    "def consumer_parallel(queue):\n",
    "    print('Consumer: Running')\n",
    "    while True:\n",
    "        item = queue.get()\n",
    "        if item is None:\n",
    "            break\n",
    "        sleep(item[1])\n",
    "        print(f'>consumer got {item}')\n",
    "    print('Consumer: Done')"
   ],
   "metadata": {
    "collapsed": false,
    "ExecuteTime": {
     "end_time": "2023-11-25T19:54:16.642717700Z",
     "start_time": "2023-11-25T19:54:16.634981Z"
    }
   },
   "id": "7ca2bc9c4bae6d4a"
  },
  {
   "cell_type": "code",
   "execution_count": 14,
   "outputs": [
    {
     "name": "stdout",
     "output_type": "stream",
     "text": [
      "Consumer: Running\n",
      "Producer: Running\n",
      ">producer added (0, 0.7396951639153447)\n",
      ">consumer got (0, 0.7396951639153447)\n",
      ">producer added (1, 0.9059717312843115)\n",
      ">producer added (2, 0.11382329302118188)\n",
      ">producer added (3, 0.4928096779482295)\n",
      ">consumer got (1, 0.9059717312843115)\n",
      ">consumer got (2, 0.11382329302118188)\n",
      ">producer added (4, 0.8564156960291974)\n",
      ">consumer got (3, 0.4928096779482295)\n",
      ">producer added (5, 0.8920572168867348)\n",
      ">consumer got (4, 0.8564156960291974)\n",
      ">producer added (6, 0.05406294078215801)\n",
      ">producer added (7, 0.01189769434326815)\n",
      ">producer added (8, 0.36317191264449944)\n",
      ">consumer got (5, 0.8920572168867348)\n",
      ">consumer got (6, 0.05406294078215801)\n",
      ">consumer got (7, 0.01189769434326815)\n",
      ">producer added (9, 0.8424926187777577)\n",
      "Producer: Done\n",
      ">consumer got (8, 0.36317191264449944)\n",
      ">consumer got (9, 0.8424926187777577)\n",
      "Consumer: Done\n"
     ]
    }
   ],
   "source": [
    "queue = Queue()\n",
    "consumer = Thread(target=consumer_parallel, args=(queue,))\n",
    "consumer.start()\n",
    "producer = Thread(target=producer_parallel, args=(queue,))\n",
    "producer.start()\n",
    "producer.join()\n",
    "consumer.join()"
   ],
   "metadata": {
    "collapsed": false,
    "ExecuteTime": {
     "end_time": "2023-11-25T19:54:24.410775100Z",
     "start_time": "2023-11-25T19:54:18.210835700Z"
    }
   },
   "id": "e338c4e5f7fb56cd"
  },
  {
   "cell_type": "markdown",
   "source": [
    "Asynchroniczne:"
   ],
   "metadata": {
    "collapsed": false
   },
   "id": "353ccc217c993cc0"
  },
  {
   "cell_type": "code",
   "execution_count": 18,
   "outputs": [],
   "source": [
    "def producer(shared_list):\n",
    "    print('Producer: Running')\n",
    "    for i in range(10):\n",
    "        value = random()\n",
    "        sleep(value)\n",
    "        item = (i, value)\n",
    "        shared_list.append(item)\n",
    "        print(f'>producer added {item}')\n",
    "    shared_list.append(None)\n",
    "    print('Producer: Done')"
   ],
   "metadata": {
    "collapsed": false,
    "ExecuteTime": {
     "end_time": "2023-11-25T19:54:56.140904400Z",
     "start_time": "2023-11-25T19:54:56.118701600Z"
    }
   },
   "id": "58705fd01134ca2f"
  },
  {
   "cell_type": "code",
   "execution_count": 19,
   "outputs": [],
   "source": [
    "def consumer(shared_list):\n",
    "    print('Consumer: Running')\n",
    "    while True:\n",
    "        item = shared_list.pop(0)\n",
    "        if item is None:\n",
    "            break\n",
    "        sleep(item[1])\n",
    "        print(f'>consumer got {item}')\n",
    "    print('Consumer: Done')"
   ],
   "metadata": {
    "collapsed": false,
    "ExecuteTime": {
     "end_time": "2023-11-25T19:54:57.702513900Z",
     "start_time": "2023-11-25T19:54:57.697045900Z"
    }
   },
   "id": "59f7606d983110ae"
  },
  {
   "cell_type": "code",
   "execution_count": 21,
   "outputs": [
    {
     "name": "stdout",
     "output_type": "stream",
     "text": [
      "Producer: Running\n",
      ">producer added (0, 0.2705723983285464)\n",
      ">producer added (1, 0.20459070973393623)\n",
      ">producer added (2, 0.8765371435057199)\n",
      ">producer added (3, 0.3245646372377078)\n",
      ">producer added (4, 0.5137976261409324)\n",
      ">producer added (5, 0.7490801037933953)\n",
      ">producer added (6, 0.5204700768470848)\n",
      ">producer added (7, 0.18379291295886702)\n",
      ">producer added (8, 0.4040238524545181)\n",
      ">producer added (9, 0.38209585976867366)\n",
      "Producer: Done\n",
      "Consumer: Running\n",
      ">consumer got (0, 0.2705723983285464)\n",
      ">consumer got (1, 0.20459070973393623)\n",
      ">consumer got (2, 0.8765371435057199)\n",
      ">consumer got (3, 0.3245646372377078)\n",
      ">consumer got (4, 0.5137976261409324)\n",
      ">consumer got (5, 0.7490801037933953)\n",
      ">consumer got (6, 0.5204700768470848)\n",
      ">consumer got (7, 0.18379291295886702)\n",
      ">consumer got (8, 0.4040238524545181)\n",
      ">consumer got (9, 0.38209585976867366)\n",
      "Consumer: Done\n"
     ]
    }
   ],
   "source": [
    "shared_list = []\n",
    "producer(shared_list)\n",
    "consumer(shared_list)"
   ],
   "metadata": {
    "collapsed": false,
    "ExecuteTime": {
     "end_time": "2023-11-25T19:55:19.885597300Z",
     "start_time": "2023-11-25T19:55:11.004956400Z"
    }
   },
   "id": "2886a0b4c0e18a25"
  }
 ],
 "metadata": {
  "kernelspec": {
   "display_name": "Python 3",
   "language": "python",
   "name": "python3"
  },
  "language_info": {
   "codemirror_mode": {
    "name": "ipython",
    "version": 2
   },
   "file_extension": ".py",
   "mimetype": "text/x-python",
   "name": "python",
   "nbconvert_exporter": "python",
   "pygments_lexer": "ipython2",
   "version": "2.7.6"
  }
 },
 "nbformat": 4,
 "nbformat_minor": 5
}
