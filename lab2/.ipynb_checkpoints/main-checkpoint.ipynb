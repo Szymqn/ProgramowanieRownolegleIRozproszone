{
 "cells": [
  {
   "cell_type": "code",
   "execution_count": 1,
   "id": "initial_id",
   "metadata": {
    "collapsed": true,
    "ExecuteTime": {
     "end_time": "2023-10-09T08:40:21.985491300Z",
     "start_time": "2023-10-09T08:40:21.591955800Z"
    }
   },
   "outputs": [
    {
     "name": "stdout",
     "output_type": "stream",
     "text": [
      "waiting for process to wake up...\n",
      "process are done\n"
     ]
    }
   ],
   "source": [
    "from multiprocessing import Process\n",
    "#import os\n",
    "#from time import sleep\n",
    "\n",
    "def say_hello_A():\n",
    "  print('hello from A')\n",
    "\n",
    "def say_hello_B():\n",
    "  print('hello from B')\n",
    "\n",
    "pA = Process(target=say_hello_A, )\n",
    "pB = Process(target=say_hello_B, )\n",
    "pA.start(); pB.start()\n",
    "print('waiting for process to wake up...')\n",
    "pA.join(); pB.join()\n",
    "print('process are done')"
   ]
  },
  {
   "cell_type": "markdown",
   "source": [],
   "metadata": {
    "collapsed": false
   },
   "id": "ac1bab112fe6d1e0"
  }
 ],
 "metadata": {
  "kernelspec": {
   "display_name": "Python 3",
   "language": "python",
   "name": "python3"
  },
  "language_info": {
   "codemirror_mode": {
    "name": "ipython",
    "version": 2
   },
   "file_extension": ".py",
   "mimetype": "text/x-python",
   "name": "python",
   "nbconvert_exporter": "python",
   "pygments_lexer": "ipython2",
   "version": "2.7.6"
  }
 },
 "nbformat": 4,
 "nbformat_minor": 5
}
