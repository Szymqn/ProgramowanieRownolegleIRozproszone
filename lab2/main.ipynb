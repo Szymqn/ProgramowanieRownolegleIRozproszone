{
 "cells": [
  {
   "cell_type": "code",
   "execution_count": 16,
   "id": "initial_id",
   "metadata": {
    "ExecuteTime": {
     "end_time": "2023-10-09T09:09:14.691909400Z",
     "start_time": "2023-10-09T09:09:14.559891900Z"
    }
   },
   "outputs": [
    {
     "name": "stdout",
     "output_type": "stream",
     "text": [
      "hello from A\n",
      "hello from B\n",
      "waiting for process to wake up...\n",
      "process are done\n"
     ]
    }
   ],
   "source": [
    "from multiprocessing import Process\n",
    "#import os\n",
    "#from time import sleep\n",
    "\n",
    "def say_hello_A():\n",
    "  print('hello from A')\n",
    "\n",
    "def say_hello_B():\n",
    "  print('hello from B')\n",
    "\n",
    "pA = Process(target=say_hello_A(), )\n",
    "pB = Process(target=say_hello_B(), )\n",
    "pA.start(); pB.start()\n",
    "\n",
    "print('waiting for process to wake up...')\n",
    "pA.join(); pB.join()\n",
    "print('process are done')"
   ]
  }
 ],
 "metadata": {
  "kernelspec": {
   "display_name": "Python 3 (ipykernel)",
   "language": "python",
   "name": "python3"
  },
  "language_info": {
   "codemirror_mode": {
    "name": "ipython",
    "version": 3
   },
   "file_extension": ".py",
   "mimetype": "text/x-python",
   "name": "python",
   "nbconvert_exporter": "python",
   "pygments_lexer": "ipython3",
   "version": "3.11.4"
  }
 },
 "nbformat": 4,
 "nbformat_minor": 5
}
