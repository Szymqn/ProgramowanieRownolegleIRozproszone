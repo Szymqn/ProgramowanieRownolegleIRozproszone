{
  "nbformat": 4,
  "nbformat_minor": 0,
  "metadata": {
    "colab": {
      "provenance": []
    },
    "kernelspec": {
      "name": "python3",
      "display_name": "Python 3"
    },
    "language_info": {
      "name": "python"
    }
  },
  "cells": [
    {
      "cell_type": "code",
      "execution_count": 1,
      "metadata": {
        "colab": {
          "base_uri": "https://localhost:8080/"
        },
        "id": "LK7Fp1wnu480",
        "outputId": "48d72150-0617-4776-8a0a-0ef8547cbfc7"
      },
      "outputs": [
        {
          "output_type": "stream",
          "name": "stderr",
          "text": [
            "<ipython-input-1-e371037d0ad5>:24: NumbaDeprecationWarning: The 'nopython' keyword argument was not supplied to the 'numba.jit' decorator. The implicit default value for this argument is currently False, but it will be changed to True in Numba 0.59.0. See https://numba.readthedocs.io/en/stable/reference/deprecation.html#deprecation-of-object-mode-fall-back-behaviour-when-using-jit for details.\n",
            "  def linear_regression_with_numba(X, y):\n"
          ]
        },
        {
          "output_type": "stream",
          "name": "stdout",
          "text": [
            "Linear Regression without Numba:\n",
            "Slope: 1.9983889084440851\n",
            "Intercept: 3.0010367055123854\n",
            "Execution time: 19.66813349723816 seconds\n",
            "Linear Regression with Numba:\n",
            "Slope: 1.998388908444094\n",
            "Intercept: 3.001036705512005\n",
            "Execution time: 1.7708072662353516 seconds\n"
          ]
        }
      ],
      "source": [
        "import numpy as np\n",
        "import time\n",
        "import numba\n",
        "\n",
        "\n",
        "def linear_regression_without_numba(X, y):\n",
        "    n = len(X)\n",
        "    X_mean = np.mean(X)\n",
        "    y_mean = np.mean(y)\n",
        "\n",
        "    numerator = 0.0\n",
        "    denominator = 0.0\n",
        "\n",
        "    for i in range(n):\n",
        "        numerator += (X[i] - X_mean) * (y[i] - y_mean)\n",
        "        denominator += (X[i] - X_mean) ** 2\n",
        "\n",
        "    slope = numerator / denominator\n",
        "    intercept = y_mean - slope * X_mean\n",
        "    return slope, intercept\n",
        "\n",
        "\n",
        "@numba.jit\n",
        "def linear_regression_with_numba(X, y):\n",
        "    n = len(X)\n",
        "    X_mean = np.mean(X)\n",
        "    y_mean = np.mean(y)\n",
        "\n",
        "    numerator = 0.0\n",
        "    denominator = 0.0\n",
        "\n",
        "    for i in range(n):\n",
        "        numerator += (X[i] - X_mean) * (y[i] - y_mean)\n",
        "        denominator += (X[i] - X_mean) ** 2\n",
        "\n",
        "    slope = numerator / denominator\n",
        "    intercept = y_mean - slope * X_mean\n",
        "    return slope, intercept\n",
        "\n",
        "def main():\n",
        "    # Generate a large dataset\n",
        "    np.random.seed(0)\n",
        "    X = np.random.rand(10000000)  # Predictor variable\n",
        "    y = 2 * X + 3 + np.random.randn(10000000)  # Target variable (with some noise)\n",
        "\n",
        "    # Without Numba\n",
        "    start_time = time.time()\n",
        "    slope, intercept = linear_regression_without_numba(X, y)\n",
        "    end_time = time.time()\n",
        "    execution_time_without_numba = end_time - start_time\n",
        "\n",
        "    print(\"Linear Regression without Numba:\")\n",
        "    print(\"Slope:\", slope)\n",
        "    print(\"Intercept:\", intercept)\n",
        "    print(\"Execution time:\", execution_time_without_numba, \"seconds\")\n",
        "\n",
        "    # With Numba\n",
        "    start_time = time.time()\n",
        "    slope, intercept = linear_regression_with_numba(X, y)\n",
        "    end_time = time.time()\n",
        "    execution_time_with_numba = end_time - start_time\n",
        "\n",
        "    print(\"Linear Regression with Numba:\")\n",
        "    print(\"Slope:\", slope)\n",
        "    print(\"Intercept:\", intercept)\n",
        "    print(\"Execution time:\", execution_time_with_numba, \"seconds\")\n",
        "\n",
        "if __name__ == \"__main__\":\n",
        "    main()"
      ]
    }
  ]
}