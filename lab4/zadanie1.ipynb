{
  "nbformat": 4,
  "nbformat_minor": 0,
  "metadata": {
    "colab": {
      "provenance": [],
      "authorship_tag": "ABX9TyMkI9pGwrKqcdGrhZwmcDB4",
      "include_colab_link": true
    },
    "kernelspec": {
      "name": "python3",
      "display_name": "Python 3"
    },
    "language_info": {
      "name": "python"
    }
  },
  "cells": [
    {
      "cell_type": "markdown",
      "metadata": {
        "id": "view-in-github",
        "colab_type": "text"
      },
      "source": [
        "<a href=\"https://colab.research.google.com/github/Szymqn/ProgramowanieRownolegleIRozproszone/blob/master/lab4/zadanie1.ipynb\" target=\"_parent\"><img src=\"https://colab.research.google.com/assets/colab-badge.svg\" alt=\"Open In Colab\"/></a>"
      ]
    },
    {
      "cell_type": "code",
      "source": [
        "# Imports\n",
        "import pandas as pd\n",
        "import numpy as np\n",
        "import matplotlib.pyplot as plt\n",
        "import time\n",
        "from multiprocessing import Pool\n",
        "from math import sqrt"
      ],
      "metadata": {
        "id": "2Y2uKXL1XGgE"
      },
      "execution_count": 93,
      "outputs": []
    },
    {
      "cell_type": "markdown",
      "source": [
        "Zaimplementuj wariant szeregowy oraz równoległy następujących algorytmów"
      ],
      "metadata": {
        "id": "mHzgRVZgVQFq"
      }
    },
    {
      "cell_type": "markdown",
      "source": [
        "a. całkowanie numeryczne wybranej funkcji f(x) w przedziale <a,b> metodą trapezów\n",
        "\n",
        "https://pl.wikipedia.org/wiki/Ca%C5%82kowanie_numeryczne"
      ],
      "metadata": {
        "id": "-NIzO9nTUwYn"
      }
    },
    {
      "cell_type": "markdown",
      "source": [
        "szeregowo:"
      ],
      "metadata": {
        "id": "etjXEO8rZiwD"
      }
    },
    {
      "cell_type": "code",
      "source": [
        "def integral(x):\n",
        "    # return x ** 2\n",
        "    return (sqrt(x ** 2 + .3))/(1.4 + sqrt(.8 * (x ** 2) + 1.6))\n",
        "\n",
        "def trapeze_method(integral, lower_limit, upper_limit, n):\n",
        "    result = 0\n",
        "    results = []\n",
        "    h = round((upper_limit - lower_limit) / n, 1)\n",
        "\n",
        "    start_time = time.time()\n",
        "\n",
        "    for i in np.arange(lower_limit, upper_limit+h, h):\n",
        "        results.append(integral(i))\n",
        "\n",
        "    for i in range(len(results)):\n",
        "        if i == 0 or i == len(results)-1:\n",
        "            result += results[i] / 2\n",
        "        else:\n",
        "            result += results[i]\n",
        "\n",
        "    end_time = time.time()\n",
        "    execution_time = end_time - start_time\n",
        "\n",
        "    return h * result, execution_time * 1000"
      ],
      "metadata": {
        "id": "EcAn2uLmY8gr"
      },
      "execution_count": 94,
      "outputs": []
    },
    {
      "cell_type": "code",
      "source": [
        "lower_limit = 4\n",
        "upper_limit = 20\n",
        "n = 50\n",
        "\n",
        "result = trapeze_method(integral, lower_limit, upper_limit, n)\n",
        "\n",
        "print(f\"Wynik dla n = {n}, moteda trapezów: {result[0]} w czasie {result[1]} ms.\")"
      ],
      "metadata": {
        "colab": {
          "base_uri": "https://localhost:8080/"
        },
        "id": "yzyFgFnGZR7w",
        "outputId": "62438a3a-668a-44af-c566-cc3854d9ded8"
      },
      "execution_count": 108,
      "outputs": [
        {
          "output_type": "stream",
          "name": "stdout",
          "text": [
            "Wynik dla n = 50, moteda trapezów: 15.606642933046562 w czasie 7.149219512939453 ms.\n"
          ]
        }
      ]
    },
    {
      "cell_type": "markdown",
      "source": [
        "równolegle:"
      ],
      "metadata": {
        "id": "Dg12KCC6Zpg9"
      }
    },
    {
      "cell_type": "code",
      "source": [
        "\n",
        "def integral(x):\n",
        "    # return x ** 2\n",
        "    return (sqrt(x ** 2 + .3))/(1.4 + sqrt(.8 * (x ** 2) + 1.6))\n",
        "\n",
        "def compute_area(args):\n",
        "    i, h = args[4], args[5]\n",
        "    if i == 0 or i == args[3]:\n",
        "        return args[0](args[1] + i * h) / 2\n",
        "    else:\n",
        "        return args[0](args[1] + i * h)\n",
        "\n",
        "def trapeze_method_parallel(integral, lower_limit, upper_limit, n, num_processes):\n",
        "    h = (upper_limit - lower_limit) / n\n",
        "\n",
        "    start_time = time.time()\n",
        "\n",
        "    pool = Pool(processes=num_processes)\n",
        "    args = [(integral, lower_limit, upper_limit, n, i, h) for i in range(n + 1)]\n",
        "    results = pool.map(compute_area, args)\n",
        "    pool.close()\n",
        "    pool.join()\n",
        "\n",
        "    end_time = time.time()\n",
        "    execution_time = end_time - start_time\n",
        "\n",
        "    return h * sum(results), execution_time * 1000\n"
      ],
      "metadata": {
        "id": "i4N4FALqZpOI"
      },
      "execution_count": 96,
      "outputs": []
    },
    {
      "cell_type": "code",
      "source": [
        "lower_limit = 4\n",
        "upper_limit = 20\n",
        "n = 50\n",
        "num_processes = 1\n",
        "\n",
        "result = trapeze_method_parallel(integral, lower_limit, upper_limit, n, num_processes)\n",
        "\n",
        "print(f\"Wynik dla n = {n}, metoda trapezów: {result[0]} w czasie {result[1]} ms.\")"
      ],
      "metadata": {
        "colab": {
          "base_uri": "https://localhost:8080/"
        },
        "id": "_025sNyxa9gm",
        "outputId": "c1a2f4c9-e918-4500-ec08-bf07ec5b8e9c"
      },
      "execution_count": 115,
      "outputs": [
        {
          "output_type": "stream",
          "name": "stdout",
          "text": [
            "Wynik dla n = 50, metoda trapezów: 15.399527000258907 w czasie 24.872303009033203 ms.\n"
          ]
        }
      ]
    },
    {
      "cell_type": "markdown",
      "source": [
        "b. wyznaczanie pola koła metodą Monte Carlo\n",
        "\n",
        "https://pl.wikipedia.org/wiki/Metoda_Monte_Carlo"
      ],
      "metadata": {
        "id": "bWBfq-PPVFNv"
      }
    },
    {
      "cell_type": "markdown",
      "source": [
        "szeregowo:"
      ],
      "metadata": {
        "id": "8u01q5qpyA5G"
      }
    },
    {
      "cell_type": "code",
      "source": [],
      "metadata": {
        "id": "kd-OYTK_yDbp"
      },
      "execution_count": null,
      "outputs": []
    },
    {
      "cell_type": "markdown",
      "source": [
        "równolegle:"
      ],
      "metadata": {
        "id": "bqqeU53QyDnS"
      }
    },
    {
      "cell_type": "code",
      "source": [],
      "metadata": {
        "id": "_NZcvW12yFcK"
      },
      "execution_count": null,
      "outputs": []
    },
    {
      "cell_type": "markdown",
      "source": [
        "c. generowanie fraktali Mandelbrota oraz Julii\n",
        "\n",
        "https://pl.wikipedia.org/wiki/Zbi%C3%B3r_Mandelbrota\n",
        "\n",
        "https://pl.wikipedia.org/wiki/Zbi%C3%B3r_Julii"
      ],
      "metadata": {
        "id": "b9kdY2j7VdEY"
      }
    },
    {
      "cell_type": "markdown",
      "source": [
        "szeregowo:"
      ],
      "metadata": {
        "id": "P-fyDFBgyINZ"
      }
    },
    {
      "cell_type": "code",
      "source": [],
      "metadata": {
        "id": "dZVqMrAJyH8o"
      },
      "execution_count": null,
      "outputs": []
    },
    {
      "cell_type": "markdown",
      "source": [
        "równolegle:"
      ],
      "metadata": {
        "id": "mgwY6BpEyJ9J"
      }
    },
    {
      "cell_type": "code",
      "source": [],
      "metadata": {
        "id": "szls0llVyJn1"
      },
      "execution_count": null,
      "outputs": []
    },
    {
      "cell_type": "markdown",
      "source": [
        "d. wybrany inny algorytm numeryczny, który da sie zrównoleglić"
      ],
      "metadata": {
        "id": "PQHu1H0AVjgg"
      }
    },
    {
      "cell_type": "markdown",
      "source": [
        "szeregowo:"
      ],
      "metadata": {
        "id": "dcEexDCJyMSI"
      }
    },
    {
      "cell_type": "code",
      "source": [],
      "metadata": {
        "id": "B6GlMzl1yLih"
      },
      "execution_count": null,
      "outputs": []
    },
    {
      "cell_type": "markdown",
      "source": [
        "równolegle:"
      ],
      "metadata": {
        "id": "Be17SyT2yNxY"
      }
    },
    {
      "cell_type": "code",
      "source": [],
      "metadata": {
        "id": "aogy8JzHyNdh"
      },
      "execution_count": null,
      "outputs": []
    }
  ]
}