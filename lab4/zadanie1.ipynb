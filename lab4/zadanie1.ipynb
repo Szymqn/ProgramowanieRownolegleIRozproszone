{
  "nbformat": 4,
  "nbformat_minor": 0,
  "metadata": {
    "colab": {
      "provenance": [],
      "authorship_tag": "ABX9TyMwcEed4dR01liBA4BYScR4",
      "include_colab_link": true
    },
    "kernelspec": {
      "name": "python3",
      "display_name": "Python 3"
    },
    "language_info": {
      "name": "python"
    }
  },
  "cells": [
    {
      "cell_type": "markdown",
      "metadata": {
        "id": "view-in-github",
        "colab_type": "text"
      },
      "source": [
        "<a href=\"https://colab.research.google.com/github/Szymqn/ProgramowanieRownolegleIRozproszone/blob/master/lab4/zadanie1.ipynb\" target=\"_parent\"><img src=\"https://colab.research.google.com/assets/colab-badge.svg\" alt=\"Open In Colab\"/></a>"
      ]
    },
    {
      "cell_type": "markdown",
      "source": [
        "Zaimplementuj wariant szeregowy oraz równoległy następujących algorytmów"
      ],
      "metadata": {
        "id": "mHzgRVZgVQFq"
      }
    },
    {
      "cell_type": "markdown",
      "source": [
        "a. całkowanie numeryczne wybranej funkcji f(x) w przedziale <a,b> metodą trapezów\n",
        "\n",
        "https://pl.wikipedia.org/wiki/Ca%C5%82kowanie_numeryczne"
      ],
      "metadata": {
        "id": "-NIzO9nTUwYn"
      }
    },
    {
      "cell_type": "markdown",
      "source": [
        "b. wyznaczanie pola koła metodą Monte Carlo\n",
        "\n",
        "https://pl.wikipedia.org/wiki/Metoda_Monte_Carlo"
      ],
      "metadata": {
        "id": "bWBfq-PPVFNv"
      }
    },
    {
      "cell_type": "markdown",
      "source": [
        "c. generowanie fraktali Mandelbrota oraz Julii\n",
        "\n",
        "https://pl.wikipedia.org/wiki/Zbi%C3%B3r_Mandelbrota\n",
        "\n",
        "https://pl.wikipedia.org/wiki/Zbi%C3%B3r_Julii"
      ],
      "metadata": {
        "id": "b9kdY2j7VdEY"
      }
    },
    {
      "cell_type": "markdown",
      "source": [
        "d. wybrany inny algorytm numeryczny, który da sie zrównoleglić"
      ],
      "metadata": {
        "id": "PQHu1H0AVjgg"
      }
    }
  ]
}