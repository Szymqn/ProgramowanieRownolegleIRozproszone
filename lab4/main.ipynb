{
 "cells": [
  {
   "cell_type": "code",
   "execution_count": 6,
   "id": "initial_id",
   "metadata": {
    "collapsed": true,
    "ExecuteTime": {
     "end_time": "2023-10-30T09:53:44.045864300Z",
     "start_time": "2023-10-30T09:50:40.673832Z"
    }
   },
   "outputs": [
    {
     "name": "stdout",
     "output_type": "stream",
     "text": [
      "intlen\n",
      "0.0001\n",
      "calka\n",
      "0.49999999999990613\n",
      "elapsed time: 183.36142130000007\n"
     ]
    }
   ],
   "source": [
    "from multiprocessing import Process, Queue\n",
    "from numpy import linspace, pi\n",
    "from numpy.lib.scimath import sqrt\n",
    "from timeit import default_timer as timer\n",
    "\n",
    "def call_rectangular_rule(fun, a, b, q):\n",
    "\n",
    "  x = (b + a) / 2.0\n",
    "  y = fun(x)\n",
    "  I = (b - a) * y\n",
    "  q.put(I)\n",
    "\n",
    "npr = 10000\n",
    "\n",
    "start = timer()\n",
    "\n",
    "def crc (x):\n",
    "  return x\n",
    "\n",
    "intlen = 1.0/npr\n",
    "queues = [Queue() for _ in range(npr)]\n",
    "procs = []\n",
    "(left, right) = (0, intlen)\n",
    "right = intlen\n",
    "print(\"intlen\")\n",
    "print(intlen)\n",
    "for k in range (1, npr+1):\n",
    "  procs.append(Process(target = call_rectangular_rule(crc, left, right, queues[k-1])))\n",
    "  (left, right) = (left + intlen, right + intlen)\n",
    "\n",
    "for process in procs:\n",
    "  process.start()\n",
    "\n",
    "for process in procs:\n",
    "  process.join()\n",
    "\n",
    "calka = 0\n",
    "\n",
    "for q in queues:\n",
    "  calka += q.get()\n",
    "\n",
    "print(\"calka\")\n",
    "print(calka)\n",
    "\n",
    "end = timer()\n",
    "\n",
    "print(f'elapsed time: {end - start}')"
   ]
  }
 ],
 "metadata": {
  "kernelspec": {
   "display_name": "Python 3",
   "language": "python",
   "name": "python3"
  },
  "language_info": {
   "codemirror_mode": {
    "name": "ipython",
    "version": 2
   },
   "file_extension": ".py",
   "mimetype": "text/x-python",
   "name": "python",
   "nbconvert_exporter": "python",
   "pygments_lexer": "ipython2",
   "version": "2.7.6"
  }
 },
 "nbformat": 4,
 "nbformat_minor": 5
}
